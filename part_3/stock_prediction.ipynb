{
  "cells": [
    {
      "cell_type": "markdown",
      "metadata": {
        "id": "u5fIawAxCkD1"
      },
      "source": [
        "# Stock Prediction with Machine Learning"
      ]
    },
    {
      "cell_type": "markdown",
      "metadata": {
        "id": "CpNXhmZgCkD7"
      },
      "source": [
        "## 1. Importing Libraries"
      ]
    },
    {
      "cell_type": "code",
      "execution_count": 47,
      "metadata": {
        "id": "_weyT51GCkD8"
      },
      "outputs": [],
      "source": [
        "import numpy as np\n",
        "import matplotlib.pyplot as plt\n",
        "import pandas_datareader as data\n",
        "import pandas as pd\n",
        "from tensorflow import keras\n",
        "from tensorflow.keras.models import Sequential, load_model\n",
        "from tensorflow.keras.layers import LSTM, Dense, Dropout\n",
        "from sklearn.preprocessing import MinMaxScaler \n",
        "\n",
        "from pandas_datareader import data as pdr\n",
        "import yfinance as yf\n",
        "\n",
        "%matplotlib inline"
      ]
    },
    {
      "cell_type": "code",
      "execution_count": 26,
      "metadata": {
        "colab": {
          "base_uri": "https://localhost:8080/"
        },
        "id": "XpGoOwFJF7mW",
        "outputId": "c329b86e-d151-43e7-99fc-df8f7d20d764"
      },
      "outputs": [
        {
          "name": "stdout",
          "output_type": "stream",
          "text": [
            "Looking in indexes: https://pypi.org/simple, https://us-python.pkg.dev/colab-wheels/public/simple/\n",
            "Requirement already satisfied: yfinance in /usr/local/lib/python3.7/dist-packages (0.1.70)\n",
            "Requirement already satisfied: requests>=2.26 in /usr/local/lib/python3.7/dist-packages (from yfinance) (2.27.1)\n",
            "Requirement already satisfied: lxml>=4.5.1 in /usr/local/lib/python3.7/dist-packages (from yfinance) (4.9.0)\n",
            "Requirement already satisfied: pandas>=0.24.0 in /usr/local/lib/python3.7/dist-packages (from yfinance) (1.3.5)\n",
            "Requirement already satisfied: multitasking>=0.0.7 in /usr/local/lib/python3.7/dist-packages (from yfinance) (0.0.10)\n",
            "Requirement already satisfied: numpy>=1.15 in /usr/local/lib/python3.7/dist-packages (from yfinance) (1.21.6)\n",
            "Requirement already satisfied: python-dateutil>=2.7.3 in /usr/local/lib/python3.7/dist-packages (from pandas>=0.24.0->yfinance) (2.8.2)\n",
            "Requirement already satisfied: pytz>=2017.3 in /usr/local/lib/python3.7/dist-packages (from pandas>=0.24.0->yfinance) (2022.1)\n",
            "Requirement already satisfied: six>=1.5 in /usr/local/lib/python3.7/dist-packages (from python-dateutil>=2.7.3->pandas>=0.24.0->yfinance) (1.15.0)\n",
            "Requirement already satisfied: urllib3<1.27,>=1.21.1 in /usr/local/lib/python3.7/dist-packages (from requests>=2.26->yfinance) (1.24.3)\n",
            "Requirement already satisfied: charset-normalizer~=2.0.0 in /usr/local/lib/python3.7/dist-packages (from requests>=2.26->yfinance) (2.0.12)\n",
            "Requirement already satisfied: idna<4,>=2.5 in /usr/local/lib/python3.7/dist-packages (from requests>=2.26->yfinance) (2.10)\n",
            "Requirement already satisfied: certifi>=2017.4.17 in /usr/local/lib/python3.7/dist-packages (from requests>=2.26->yfinance) (2022.5.18.1)\n"
          ]
        }
      ],
      "source": [
        "%pip install yfinance --upgrade --no-cache-dir"
      ]
    },
    {
      "cell_type": "code",
      "execution_count": 27,
      "metadata": {
        "id": "fTSky9NVGRSo"
      },
      "outputs": [],
      "source": [
        "yf.pdr_override()"
      ]
    },
    {
      "cell_type": "markdown",
      "metadata": {
        "id": "3PcpovNlCkD-"
      },
      "source": [
        "## 2. Retrieving Data"
      ]
    },
    {
      "cell_type": "code",
      "execution_count": 28,
      "metadata": {
        "colab": {
          "base_uri": "https://localhost:8080/"
        },
        "id": "AH9Cyr0LCkD-",
        "outputId": "08d19a8d-eba6-4b39-f53b-6dca765e713e"
      },
      "outputs": [
        {
          "name": "stdout",
          "output_type": "stream",
          "text": [
            "\r[*********************100%***********************]  1 of 1 completed\n"
          ]
        }
      ],
      "source": [
        "start = '2010-01-01'\n",
        "end = '2022-06-05'\n",
        "\n",
        "stock = 'AAPL'\n",
        "# df = data.DataReader(stock, 'yahoo', start, end)\n",
        "df = pdr.get_data_yahoo(stock, start=start, end=end)\n"
      ]
    },
    {
      "cell_type": "markdown",
      "metadata": {
        "id": "gtAs6R5UCkD_"
      },
      "source": [
        "## 3. Exploring Dataset"
      ]
    },
    {
      "cell_type": "code",
      "execution_count": 29,
      "metadata": {
        "colab": {
          "base_uri": "https://localhost:8080/",
          "height": 238
        },
        "id": "vOBw_E02CkEA",
        "outputId": "d2853df5-931d-4bd8-8ccb-09eef616c867"
      },
      "outputs": [
        {
          "data": {
            "text/html": [
              "\n",
              "  <div id=\"df-1036fd49-8d35-41db-a5aa-1ef5b5f9955a\">\n",
              "    <div class=\"colab-df-container\">\n",
              "      <div>\n",
              "<style scoped>\n",
              "    .dataframe tbody tr th:only-of-type {\n",
              "        vertical-align: middle;\n",
              "    }\n",
              "\n",
              "    .dataframe tbody tr th {\n",
              "        vertical-align: top;\n",
              "    }\n",
              "\n",
              "    .dataframe thead th {\n",
              "        text-align: right;\n",
              "    }\n",
              "</style>\n",
              "<table border=\"1\" class=\"dataframe\">\n",
              "  <thead>\n",
              "    <tr style=\"text-align: right;\">\n",
              "      <th></th>\n",
              "      <th>Open</th>\n",
              "      <th>High</th>\n",
              "      <th>Low</th>\n",
              "      <th>Close</th>\n",
              "      <th>Adj Close</th>\n",
              "      <th>Volume</th>\n",
              "    </tr>\n",
              "    <tr>\n",
              "      <th>Date</th>\n",
              "      <th></th>\n",
              "      <th></th>\n",
              "      <th></th>\n",
              "      <th></th>\n",
              "      <th></th>\n",
              "      <th></th>\n",
              "    </tr>\n",
              "  </thead>\n",
              "  <tbody>\n",
              "    <tr>\n",
              "      <th>2010-01-04</th>\n",
              "      <td>7.622500</td>\n",
              "      <td>7.660714</td>\n",
              "      <td>7.585000</td>\n",
              "      <td>7.643214</td>\n",
              "      <td>6.535085</td>\n",
              "      <td>493729600</td>\n",
              "    </tr>\n",
              "    <tr>\n",
              "      <th>2010-01-05</th>\n",
              "      <td>7.664286</td>\n",
              "      <td>7.699643</td>\n",
              "      <td>7.616071</td>\n",
              "      <td>7.656429</td>\n",
              "      <td>6.546383</td>\n",
              "      <td>601904800</td>\n",
              "    </tr>\n",
              "    <tr>\n",
              "      <th>2010-01-06</th>\n",
              "      <td>7.656429</td>\n",
              "      <td>7.686786</td>\n",
              "      <td>7.526786</td>\n",
              "      <td>7.534643</td>\n",
              "      <td>6.442255</td>\n",
              "      <td>552160000</td>\n",
              "    </tr>\n",
              "    <tr>\n",
              "      <th>2010-01-07</th>\n",
              "      <td>7.562500</td>\n",
              "      <td>7.571429</td>\n",
              "      <td>7.466071</td>\n",
              "      <td>7.520714</td>\n",
              "      <td>6.430344</td>\n",
              "      <td>477131200</td>\n",
              "    </tr>\n",
              "    <tr>\n",
              "      <th>2010-01-08</th>\n",
              "      <td>7.510714</td>\n",
              "      <td>7.571429</td>\n",
              "      <td>7.466429</td>\n",
              "      <td>7.570714</td>\n",
              "      <td>6.473096</td>\n",
              "      <td>447610800</td>\n",
              "    </tr>\n",
              "  </tbody>\n",
              "</table>\n",
              "</div>\n",
              "      <button class=\"colab-df-convert\" onclick=\"convertToInteractive('df-1036fd49-8d35-41db-a5aa-1ef5b5f9955a')\"\n",
              "              title=\"Convert this dataframe to an interactive table.\"\n",
              "              style=\"display:none;\">\n",
              "        \n",
              "  <svg xmlns=\"http://www.w3.org/2000/svg\" height=\"24px\"viewBox=\"0 0 24 24\"\n",
              "       width=\"24px\">\n",
              "    <path d=\"M0 0h24v24H0V0z\" fill=\"none\"/>\n",
              "    <path d=\"M18.56 5.44l.94 2.06.94-2.06 2.06-.94-2.06-.94-.94-2.06-.94 2.06-2.06.94zm-11 1L8.5 8.5l.94-2.06 2.06-.94-2.06-.94L8.5 2.5l-.94 2.06-2.06.94zm10 10l.94 2.06.94-2.06 2.06-.94-2.06-.94-.94-2.06-.94 2.06-2.06.94z\"/><path d=\"M17.41 7.96l-1.37-1.37c-.4-.4-.92-.59-1.43-.59-.52 0-1.04.2-1.43.59L10.3 9.45l-7.72 7.72c-.78.78-.78 2.05 0 2.83L4 21.41c.39.39.9.59 1.41.59.51 0 1.02-.2 1.41-.59l7.78-7.78 2.81-2.81c.8-.78.8-2.07 0-2.86zM5.41 20L4 18.59l7.72-7.72 1.47 1.35L5.41 20z\"/>\n",
              "  </svg>\n",
              "      </button>\n",
              "      \n",
              "  <style>\n",
              "    .colab-df-container {\n",
              "      display:flex;\n",
              "      flex-wrap:wrap;\n",
              "      gap: 12px;\n",
              "    }\n",
              "\n",
              "    .colab-df-convert {\n",
              "      background-color: #E8F0FE;\n",
              "      border: none;\n",
              "      border-radius: 50%;\n",
              "      cursor: pointer;\n",
              "      display: none;\n",
              "      fill: #1967D2;\n",
              "      height: 32px;\n",
              "      padding: 0 0 0 0;\n",
              "      width: 32px;\n",
              "    }\n",
              "\n",
              "    .colab-df-convert:hover {\n",
              "      background-color: #E2EBFA;\n",
              "      box-shadow: 0px 1px 2px rgba(60, 64, 67, 0.3), 0px 1px 3px 1px rgba(60, 64, 67, 0.15);\n",
              "      fill: #174EA6;\n",
              "    }\n",
              "\n",
              "    [theme=dark] .colab-df-convert {\n",
              "      background-color: #3B4455;\n",
              "      fill: #D2E3FC;\n",
              "    }\n",
              "\n",
              "    [theme=dark] .colab-df-convert:hover {\n",
              "      background-color: #434B5C;\n",
              "      box-shadow: 0px 1px 3px 1px rgba(0, 0, 0, 0.15);\n",
              "      filter: drop-shadow(0px 1px 2px rgba(0, 0, 0, 0.3));\n",
              "      fill: #FFFFFF;\n",
              "    }\n",
              "  </style>\n",
              "\n",
              "      <script>\n",
              "        const buttonEl =\n",
              "          document.querySelector('#df-1036fd49-8d35-41db-a5aa-1ef5b5f9955a button.colab-df-convert');\n",
              "        buttonEl.style.display =\n",
              "          google.colab.kernel.accessAllowed ? 'block' : 'none';\n",
              "\n",
              "        async function convertToInteractive(key) {\n",
              "          const element = document.querySelector('#df-1036fd49-8d35-41db-a5aa-1ef5b5f9955a');\n",
              "          const dataTable =\n",
              "            await google.colab.kernel.invokeFunction('convertToInteractive',\n",
              "                                                     [key], {});\n",
              "          if (!dataTable) return;\n",
              "\n",
              "          const docLinkHtml = 'Like what you see? Visit the ' +\n",
              "            '<a target=\"_blank\" href=https://colab.research.google.com/notebooks/data_table.ipynb>data table notebook</a>'\n",
              "            + ' to learn more about interactive tables.';\n",
              "          element.innerHTML = '';\n",
              "          dataTable['output_type'] = 'display_data';\n",
              "          await google.colab.output.renderOutput(dataTable, element);\n",
              "          const docLink = document.createElement('div');\n",
              "          docLink.innerHTML = docLinkHtml;\n",
              "          element.appendChild(docLink);\n",
              "        }\n",
              "      </script>\n",
              "    </div>\n",
              "  </div>\n",
              "  "
            ],
            "text/plain": [
              "                Open      High       Low     Close  Adj Close     Volume\n",
              "Date                                                                    \n",
              "2010-01-04  7.622500  7.660714  7.585000  7.643214   6.535085  493729600\n",
              "2010-01-05  7.664286  7.699643  7.616071  7.656429   6.546383  601904800\n",
              "2010-01-06  7.656429  7.686786  7.526786  7.534643   6.442255  552160000\n",
              "2010-01-07  7.562500  7.571429  7.466071  7.520714   6.430344  477131200\n",
              "2010-01-08  7.510714  7.571429  7.466429  7.570714   6.473096  447610800"
            ]
          },
          "execution_count": 29,
          "metadata": {},
          "output_type": "execute_result"
        }
      ],
      "source": [
        "df.head()"
      ]
    },
    {
      "cell_type": "code",
      "execution_count": 30,
      "metadata": {
        "colab": {
          "base_uri": "https://localhost:8080/",
          "height": 238
        },
        "id": "AR3jCPMACkEB",
        "outputId": "5e8dfbe0-3444-453f-9def-5fffbadf0389"
      },
      "outputs": [
        {
          "data": {
            "text/html": [
              "\n",
              "  <div id=\"df-7ea115be-bcaa-421e-8b6c-e76c0af877a8\">\n",
              "    <div class=\"colab-df-container\">\n",
              "      <div>\n",
              "<style scoped>\n",
              "    .dataframe tbody tr th:only-of-type {\n",
              "        vertical-align: middle;\n",
              "    }\n",
              "\n",
              "    .dataframe tbody tr th {\n",
              "        vertical-align: top;\n",
              "    }\n",
              "\n",
              "    .dataframe thead th {\n",
              "        text-align: right;\n",
              "    }\n",
              "</style>\n",
              "<table border=\"1\" class=\"dataframe\">\n",
              "  <thead>\n",
              "    <tr style=\"text-align: right;\">\n",
              "      <th></th>\n",
              "      <th>Open</th>\n",
              "      <th>High</th>\n",
              "      <th>Low</th>\n",
              "      <th>Close</th>\n",
              "      <th>Adj Close</th>\n",
              "      <th>Volume</th>\n",
              "    </tr>\n",
              "    <tr>\n",
              "      <th>Date</th>\n",
              "      <th></th>\n",
              "      <th></th>\n",
              "      <th></th>\n",
              "      <th></th>\n",
              "      <th></th>\n",
              "      <th></th>\n",
              "    </tr>\n",
              "  </thead>\n",
              "  <tbody>\n",
              "    <tr>\n",
              "      <th>2022-05-27</th>\n",
              "      <td>145.389999</td>\n",
              "      <td>149.679993</td>\n",
              "      <td>145.259995</td>\n",
              "      <td>149.639999</td>\n",
              "      <td>149.639999</td>\n",
              "      <td>90978500</td>\n",
              "    </tr>\n",
              "    <tr>\n",
              "      <th>2022-05-31</th>\n",
              "      <td>149.070007</td>\n",
              "      <td>150.660004</td>\n",
              "      <td>146.839996</td>\n",
              "      <td>148.839996</td>\n",
              "      <td>148.839996</td>\n",
              "      <td>103718400</td>\n",
              "    </tr>\n",
              "    <tr>\n",
              "      <th>2022-06-01</th>\n",
              "      <td>149.899994</td>\n",
              "      <td>151.740005</td>\n",
              "      <td>147.679993</td>\n",
              "      <td>148.710007</td>\n",
              "      <td>148.710007</td>\n",
              "      <td>74286600</td>\n",
              "    </tr>\n",
              "    <tr>\n",
              "      <th>2022-06-02</th>\n",
              "      <td>147.830002</td>\n",
              "      <td>151.270004</td>\n",
              "      <td>146.860001</td>\n",
              "      <td>151.210007</td>\n",
              "      <td>151.210007</td>\n",
              "      <td>72348100</td>\n",
              "    </tr>\n",
              "    <tr>\n",
              "      <th>2022-06-03</th>\n",
              "      <td>146.899994</td>\n",
              "      <td>147.970001</td>\n",
              "      <td>144.460007</td>\n",
              "      <td>145.380005</td>\n",
              "      <td>145.380005</td>\n",
              "      <td>88471400</td>\n",
              "    </tr>\n",
              "  </tbody>\n",
              "</table>\n",
              "</div>\n",
              "      <button class=\"colab-df-convert\" onclick=\"convertToInteractive('df-7ea115be-bcaa-421e-8b6c-e76c0af877a8')\"\n",
              "              title=\"Convert this dataframe to an interactive table.\"\n",
              "              style=\"display:none;\">\n",
              "        \n",
              "  <svg xmlns=\"http://www.w3.org/2000/svg\" height=\"24px\"viewBox=\"0 0 24 24\"\n",
              "       width=\"24px\">\n",
              "    <path d=\"M0 0h24v24H0V0z\" fill=\"none\"/>\n",
              "    <path d=\"M18.56 5.44l.94 2.06.94-2.06 2.06-.94-2.06-.94-.94-2.06-.94 2.06-2.06.94zm-11 1L8.5 8.5l.94-2.06 2.06-.94-2.06-.94L8.5 2.5l-.94 2.06-2.06.94zm10 10l.94 2.06.94-2.06 2.06-.94-2.06-.94-.94-2.06-.94 2.06-2.06.94z\"/><path d=\"M17.41 7.96l-1.37-1.37c-.4-.4-.92-.59-1.43-.59-.52 0-1.04.2-1.43.59L10.3 9.45l-7.72 7.72c-.78.78-.78 2.05 0 2.83L4 21.41c.39.39.9.59 1.41.59.51 0 1.02-.2 1.41-.59l7.78-7.78 2.81-2.81c.8-.78.8-2.07 0-2.86zM5.41 20L4 18.59l7.72-7.72 1.47 1.35L5.41 20z\"/>\n",
              "  </svg>\n",
              "      </button>\n",
              "      \n",
              "  <style>\n",
              "    .colab-df-container {\n",
              "      display:flex;\n",
              "      flex-wrap:wrap;\n",
              "      gap: 12px;\n",
              "    }\n",
              "\n",
              "    .colab-df-convert {\n",
              "      background-color: #E8F0FE;\n",
              "      border: none;\n",
              "      border-radius: 50%;\n",
              "      cursor: pointer;\n",
              "      display: none;\n",
              "      fill: #1967D2;\n",
              "      height: 32px;\n",
              "      padding: 0 0 0 0;\n",
              "      width: 32px;\n",
              "    }\n",
              "\n",
              "    .colab-df-convert:hover {\n",
              "      background-color: #E2EBFA;\n",
              "      box-shadow: 0px 1px 2px rgba(60, 64, 67, 0.3), 0px 1px 3px 1px rgba(60, 64, 67, 0.15);\n",
              "      fill: #174EA6;\n",
              "    }\n",
              "\n",
              "    [theme=dark] .colab-df-convert {\n",
              "      background-color: #3B4455;\n",
              "      fill: #D2E3FC;\n",
              "    }\n",
              "\n",
              "    [theme=dark] .colab-df-convert:hover {\n",
              "      background-color: #434B5C;\n",
              "      box-shadow: 0px 1px 3px 1px rgba(0, 0, 0, 0.15);\n",
              "      filter: drop-shadow(0px 1px 2px rgba(0, 0, 0, 0.3));\n",
              "      fill: #FFFFFF;\n",
              "    }\n",
              "  </style>\n",
              "\n",
              "      <script>\n",
              "        const buttonEl =\n",
              "          document.querySelector('#df-7ea115be-bcaa-421e-8b6c-e76c0af877a8 button.colab-df-convert');\n",
              "        buttonEl.style.display =\n",
              "          google.colab.kernel.accessAllowed ? 'block' : 'none';\n",
              "\n",
              "        async function convertToInteractive(key) {\n",
              "          const element = document.querySelector('#df-7ea115be-bcaa-421e-8b6c-e76c0af877a8');\n",
              "          const dataTable =\n",
              "            await google.colab.kernel.invokeFunction('convertToInteractive',\n",
              "                                                     [key], {});\n",
              "          if (!dataTable) return;\n",
              "\n",
              "          const docLinkHtml = 'Like what you see? Visit the ' +\n",
              "            '<a target=\"_blank\" href=https://colab.research.google.com/notebooks/data_table.ipynb>data table notebook</a>'\n",
              "            + ' to learn more about interactive tables.';\n",
              "          element.innerHTML = '';\n",
              "          dataTable['output_type'] = 'display_data';\n",
              "          await google.colab.output.renderOutput(dataTable, element);\n",
              "          const docLink = document.createElement('div');\n",
              "          docLink.innerHTML = docLinkHtml;\n",
              "          element.appendChild(docLink);\n",
              "        }\n",
              "      </script>\n",
              "    </div>\n",
              "  </div>\n",
              "  "
            ],
            "text/plain": [
              "                  Open        High         Low       Close   Adj Close  \\\n",
              "Date                                                                     \n",
              "2022-05-27  145.389999  149.679993  145.259995  149.639999  149.639999   \n",
              "2022-05-31  149.070007  150.660004  146.839996  148.839996  148.839996   \n",
              "2022-06-01  149.899994  151.740005  147.679993  148.710007  148.710007   \n",
              "2022-06-02  147.830002  151.270004  146.860001  151.210007  151.210007   \n",
              "2022-06-03  146.899994  147.970001  144.460007  145.380005  145.380005   \n",
              "\n",
              "               Volume  \n",
              "Date                   \n",
              "2022-05-27   90978500  \n",
              "2022-05-31  103718400  \n",
              "2022-06-01   74286600  \n",
              "2022-06-02   72348100  \n",
              "2022-06-03   88471400  "
            ]
          },
          "execution_count": 30,
          "metadata": {},
          "output_type": "execute_result"
        }
      ],
      "source": [
        "df.tail()"
      ]
    },
    {
      "cell_type": "code",
      "execution_count": 31,
      "metadata": {
        "colab": {
          "base_uri": "https://localhost:8080/",
          "height": 300
        },
        "id": "BrIJu1qkCkEC",
        "outputId": "094b1841-0e16-427f-89b5-05af1ab177cf"
      },
      "outputs": [
        {
          "data": {
            "text/html": [
              "\n",
              "  <div id=\"df-b4b394ed-56a8-45ff-978a-2234d09d335e\">\n",
              "    <div class=\"colab-df-container\">\n",
              "      <div>\n",
              "<style scoped>\n",
              "    .dataframe tbody tr th:only-of-type {\n",
              "        vertical-align: middle;\n",
              "    }\n",
              "\n",
              "    .dataframe tbody tr th {\n",
              "        vertical-align: top;\n",
              "    }\n",
              "\n",
              "    .dataframe thead th {\n",
              "        text-align: right;\n",
              "    }\n",
              "</style>\n",
              "<table border=\"1\" class=\"dataframe\">\n",
              "  <thead>\n",
              "    <tr style=\"text-align: right;\">\n",
              "      <th></th>\n",
              "      <th>Open</th>\n",
              "      <th>High</th>\n",
              "      <th>Low</th>\n",
              "      <th>Close</th>\n",
              "      <th>Adj Close</th>\n",
              "      <th>Volume</th>\n",
              "    </tr>\n",
              "  </thead>\n",
              "  <tbody>\n",
              "    <tr>\n",
              "      <th>count</th>\n",
              "      <td>3127.000000</td>\n",
              "      <td>3127.000000</td>\n",
              "      <td>3127.000000</td>\n",
              "      <td>3127.000000</td>\n",
              "      <td>3127.000000</td>\n",
              "      <td>3.127000e+03</td>\n",
              "    </tr>\n",
              "    <tr>\n",
              "      <th>mean</th>\n",
              "      <td>46.791629</td>\n",
              "      <td>47.297452</td>\n",
              "      <td>46.289511</td>\n",
              "      <td>46.812990</td>\n",
              "      <td>45.023786</td>\n",
              "      <td>2.643724e+08</td>\n",
              "    </tr>\n",
              "    <tr>\n",
              "      <th>std</th>\n",
              "      <td>43.360843</td>\n",
              "      <td>43.903972</td>\n",
              "      <td>42.827392</td>\n",
              "      <td>43.387590</td>\n",
              "      <td>43.879426</td>\n",
              "      <td>2.243405e+08</td>\n",
              "    </tr>\n",
              "    <tr>\n",
              "      <th>min</th>\n",
              "      <td>6.870357</td>\n",
              "      <td>7.000000</td>\n",
              "      <td>6.794643</td>\n",
              "      <td>6.858929</td>\n",
              "      <td>5.864507</td>\n",
              "      <td>4.100000e+07</td>\n",
              "    </tr>\n",
              "    <tr>\n",
              "      <th>25%</th>\n",
              "      <td>18.701250</td>\n",
              "      <td>18.886965</td>\n",
              "      <td>18.525178</td>\n",
              "      <td>18.724822</td>\n",
              "      <td>16.425403</td>\n",
              "      <td>1.065634e+08</td>\n",
              "    </tr>\n",
              "    <tr>\n",
              "      <th>50%</th>\n",
              "      <td>28.940001</td>\n",
              "      <td>29.129999</td>\n",
              "      <td>28.625000</td>\n",
              "      <td>28.867500</td>\n",
              "      <td>26.551064</td>\n",
              "      <td>1.774828e+08</td>\n",
              "    </tr>\n",
              "    <tr>\n",
              "      <th>75%</th>\n",
              "      <td>51.502501</td>\n",
              "      <td>52.107500</td>\n",
              "      <td>51.016251</td>\n",
              "      <td>51.783751</td>\n",
              "      <td>50.192616</td>\n",
              "      <td>3.598266e+08</td>\n",
              "    </tr>\n",
              "    <tr>\n",
              "      <th>max</th>\n",
              "      <td>182.630005</td>\n",
              "      <td>182.940002</td>\n",
              "      <td>179.119995</td>\n",
              "      <td>182.009995</td>\n",
              "      <td>181.511703</td>\n",
              "      <td>1.880998e+09</td>\n",
              "    </tr>\n",
              "  </tbody>\n",
              "</table>\n",
              "</div>\n",
              "      <button class=\"colab-df-convert\" onclick=\"convertToInteractive('df-b4b394ed-56a8-45ff-978a-2234d09d335e')\"\n",
              "              title=\"Convert this dataframe to an interactive table.\"\n",
              "              style=\"display:none;\">\n",
              "        \n",
              "  <svg xmlns=\"http://www.w3.org/2000/svg\" height=\"24px\"viewBox=\"0 0 24 24\"\n",
              "       width=\"24px\">\n",
              "    <path d=\"M0 0h24v24H0V0z\" fill=\"none\"/>\n",
              "    <path d=\"M18.56 5.44l.94 2.06.94-2.06 2.06-.94-2.06-.94-.94-2.06-.94 2.06-2.06.94zm-11 1L8.5 8.5l.94-2.06 2.06-.94-2.06-.94L8.5 2.5l-.94 2.06-2.06.94zm10 10l.94 2.06.94-2.06 2.06-.94-2.06-.94-.94-2.06-.94 2.06-2.06.94z\"/><path d=\"M17.41 7.96l-1.37-1.37c-.4-.4-.92-.59-1.43-.59-.52 0-1.04.2-1.43.59L10.3 9.45l-7.72 7.72c-.78.78-.78 2.05 0 2.83L4 21.41c.39.39.9.59 1.41.59.51 0 1.02-.2 1.41-.59l7.78-7.78 2.81-2.81c.8-.78.8-2.07 0-2.86zM5.41 20L4 18.59l7.72-7.72 1.47 1.35L5.41 20z\"/>\n",
              "  </svg>\n",
              "      </button>\n",
              "      \n",
              "  <style>\n",
              "    .colab-df-container {\n",
              "      display:flex;\n",
              "      flex-wrap:wrap;\n",
              "      gap: 12px;\n",
              "    }\n",
              "\n",
              "    .colab-df-convert {\n",
              "      background-color: #E8F0FE;\n",
              "      border: none;\n",
              "      border-radius: 50%;\n",
              "      cursor: pointer;\n",
              "      display: none;\n",
              "      fill: #1967D2;\n",
              "      height: 32px;\n",
              "      padding: 0 0 0 0;\n",
              "      width: 32px;\n",
              "    }\n",
              "\n",
              "    .colab-df-convert:hover {\n",
              "      background-color: #E2EBFA;\n",
              "      box-shadow: 0px 1px 2px rgba(60, 64, 67, 0.3), 0px 1px 3px 1px rgba(60, 64, 67, 0.15);\n",
              "      fill: #174EA6;\n",
              "    }\n",
              "\n",
              "    [theme=dark] .colab-df-convert {\n",
              "      background-color: #3B4455;\n",
              "      fill: #D2E3FC;\n",
              "    }\n",
              "\n",
              "    [theme=dark] .colab-df-convert:hover {\n",
              "      background-color: #434B5C;\n",
              "      box-shadow: 0px 1px 3px 1px rgba(0, 0, 0, 0.15);\n",
              "      filter: drop-shadow(0px 1px 2px rgba(0, 0, 0, 0.3));\n",
              "      fill: #FFFFFF;\n",
              "    }\n",
              "  </style>\n",
              "\n",
              "      <script>\n",
              "        const buttonEl =\n",
              "          document.querySelector('#df-b4b394ed-56a8-45ff-978a-2234d09d335e button.colab-df-convert');\n",
              "        buttonEl.style.display =\n",
              "          google.colab.kernel.accessAllowed ? 'block' : 'none';\n",
              "\n",
              "        async function convertToInteractive(key) {\n",
              "          const element = document.querySelector('#df-b4b394ed-56a8-45ff-978a-2234d09d335e');\n",
              "          const dataTable =\n",
              "            await google.colab.kernel.invokeFunction('convertToInteractive',\n",
              "                                                     [key], {});\n",
              "          if (!dataTable) return;\n",
              "\n",
              "          const docLinkHtml = 'Like what you see? Visit the ' +\n",
              "            '<a target=\"_blank\" href=https://colab.research.google.com/notebooks/data_table.ipynb>data table notebook</a>'\n",
              "            + ' to learn more about interactive tables.';\n",
              "          element.innerHTML = '';\n",
              "          dataTable['output_type'] = 'display_data';\n",
              "          await google.colab.output.renderOutput(dataTable, element);\n",
              "          const docLink = document.createElement('div');\n",
              "          docLink.innerHTML = docLinkHtml;\n",
              "          element.appendChild(docLink);\n",
              "        }\n",
              "      </script>\n",
              "    </div>\n",
              "  </div>\n",
              "  "
            ],
            "text/plain": [
              "              Open         High          Low        Close    Adj Close  \\\n",
              "count  3127.000000  3127.000000  3127.000000  3127.000000  3127.000000   \n",
              "mean     46.791629    47.297452    46.289511    46.812990    45.023786   \n",
              "std      43.360843    43.903972    42.827392    43.387590    43.879426   \n",
              "min       6.870357     7.000000     6.794643     6.858929     5.864507   \n",
              "25%      18.701250    18.886965    18.525178    18.724822    16.425403   \n",
              "50%      28.940001    29.129999    28.625000    28.867500    26.551064   \n",
              "75%      51.502501    52.107500    51.016251    51.783751    50.192616   \n",
              "max     182.630005   182.940002   179.119995   182.009995   181.511703   \n",
              "\n",
              "             Volume  \n",
              "count  3.127000e+03  \n",
              "mean   2.643724e+08  \n",
              "std    2.243405e+08  \n",
              "min    4.100000e+07  \n",
              "25%    1.065634e+08  \n",
              "50%    1.774828e+08  \n",
              "75%    3.598266e+08  \n",
              "max    1.880998e+09  "
            ]
          },
          "execution_count": 31,
          "metadata": {},
          "output_type": "execute_result"
        }
      ],
      "source": [
        "df.describe()"
      ]
    },
    {
      "cell_type": "code",
      "execution_count": 32,
      "metadata": {
        "colab": {
          "base_uri": "https://localhost:8080/"
        },
        "id": "V3sjVNA4CkED",
        "outputId": "87835053-44bd-4b1d-afcd-014b16363007"
      },
      "outputs": [
        {
          "data": {
            "text/plain": [
              "<bound method DataFrame.info of                   Open        High         Low       Close   Adj Close  \\\n",
              "Date                                                                     \n",
              "2010-01-04    7.622500    7.660714    7.585000    7.643214    6.535085   \n",
              "2010-01-05    7.664286    7.699643    7.616071    7.656429    6.546383   \n",
              "2010-01-06    7.656429    7.686786    7.526786    7.534643    6.442255   \n",
              "2010-01-07    7.562500    7.571429    7.466071    7.520714    6.430344   \n",
              "2010-01-08    7.510714    7.571429    7.466429    7.570714    6.473096   \n",
              "...                ...         ...         ...         ...         ...   \n",
              "2022-05-27  145.389999  149.679993  145.259995  149.639999  149.639999   \n",
              "2022-05-31  149.070007  150.660004  146.839996  148.839996  148.839996   \n",
              "2022-06-01  149.899994  151.740005  147.679993  148.710007  148.710007   \n",
              "2022-06-02  147.830002  151.270004  146.860001  151.210007  151.210007   \n",
              "2022-06-03  146.899994  147.970001  144.460007  145.380005  145.380005   \n",
              "\n",
              "               Volume  \n",
              "Date                   \n",
              "2010-01-04  493729600  \n",
              "2010-01-05  601904800  \n",
              "2010-01-06  552160000  \n",
              "2010-01-07  477131200  \n",
              "2010-01-08  447610800  \n",
              "...               ...  \n",
              "2022-05-27   90978500  \n",
              "2022-05-31  103718400  \n",
              "2022-06-01   74286600  \n",
              "2022-06-02   72348100  \n",
              "2022-06-03   88471400  \n",
              "\n",
              "[3127 rows x 6 columns]>"
            ]
          },
          "execution_count": 32,
          "metadata": {},
          "output_type": "execute_result"
        }
      ],
      "source": [
        "df.info"
      ]
    },
    {
      "cell_type": "code",
      "execution_count": 33,
      "metadata": {
        "colab": {
          "base_uri": "https://localhost:8080/",
          "height": 350
        },
        "id": "6NUPQJ78CkEE",
        "outputId": "17c74878-ae91-4655-fca9-199315517d13"
      },
      "outputs": [
        {
          "data": {
            "image/png": "[encoded data removed]",
            "text/plain": [
              "<Figure size 1080x360 with 2 Axes>"
            ]
          },
          "metadata": {
            "needs_background": "light"
          },
          "output_type": "display_data"
        }
      ],
      "source": [
        "plt.figure(figsize=(15, 5));\n",
        "plt.subplot(1,2,1);\n",
        "plt.plot(df.Open.values, color='red', label='open')\n",
        "plt.plot(df.Low.values, color='blue', label='low')\n",
        "plt.plot(df.High.values, color='orange', label='high')\n",
        "plt.plot(df.Close.values, color='green', label='close')\n",
        "plt.title('stock price')\n",
        "plt.xlabel('time [days]')\n",
        "plt.ylabel('price')\n",
        "plt.legend(loc='best')\n",
        "#plt.show()\n",
        "\n",
        "plt.subplot(1,2,2);\n",
        "plt.plot(df.Volume.values, color='blue', label='volume')\n",
        "plt.title('stock volume')\n",
        "plt.xlabel('time [days]')\n",
        "plt.ylabel('volume')\n",
        "plt.legend(loc='best');"
      ]
    },
    {
      "cell_type": "markdown",
      "metadata": {
        "id": "0uari0K6CkEF"
      },
      "source": [
        "## 4. Cleaning data for model training"
      ]
    },
    {
      "cell_type": "code",
      "execution_count": 34,
      "metadata": {
        "id": "jKOOju2PCkEF"
      },
      "outputs": [],
      "source": [
        "df = df.drop(['Adj Close'], axis=1)"
      ]
    },
    {
      "cell_type": "code",
      "execution_count": 35,
      "metadata": {
        "colab": {
          "base_uri": "https://localhost:8080/",
          "height": 238
        },
        "id": "g4eX54WoCkEF",
        "outputId": "a1fd35e1-0bde-4338-e7ea-2e8c6da8af29"
      },
      "outputs": [
        {
          "data": {
            "text/html": [
              "\n",
              "  <div id=\"df-f712e811-0394-46d0-8747-0135be94ce7c\">\n",
              "    <div class=\"colab-df-container\">\n",
              "      <div>\n",
              "<style scoped>\n",
              "    .dataframe tbody tr th:only-of-type {\n",
              "        vertical-align: middle;\n",
              "    }\n",
              "\n",
              "    .dataframe tbody tr th {\n",
              "        vertical-align: top;\n",
              "    }\n",
              "\n",
              "    .dataframe thead th {\n",
              "        text-align: right;\n",
              "    }\n",
              "</style>\n",
              "<table border=\"1\" class=\"dataframe\">\n",
              "  <thead>\n",
              "    <tr style=\"text-align: right;\">\n",
              "      <th></th>\n",
              "      <th>Open</th>\n",
              "      <th>High</th>\n",
              "      <th>Low</th>\n",
              "      <th>Close</th>\n",
              "      <th>Volume</th>\n",
              "    </tr>\n",
              "    <tr>\n",
              "      <th>Date</th>\n",
              "      <th></th>\n",
              "      <th></th>\n",
              "      <th></th>\n",
              "      <th></th>\n",
              "      <th></th>\n",
              "    </tr>\n",
              "  </thead>\n",
              "  <tbody>\n",
              "    <tr>\n",
              "      <th>2010-01-04</th>\n",
              "      <td>7.622500</td>\n",
              "      <td>7.660714</td>\n",
              "      <td>7.585000</td>\n",
              "      <td>7.643214</td>\n",
              "      <td>493729600</td>\n",
              "    </tr>\n",
              "    <tr>\n",
              "      <th>2010-01-05</th>\n",
              "      <td>7.664286</td>\n",
              "      <td>7.699643</td>\n",
              "      <td>7.616071</td>\n",
              "      <td>7.656429</td>\n",
              "      <td>601904800</td>\n",
              "    </tr>\n",
              "    <tr>\n",
              "      <th>2010-01-06</th>\n",
              "      <td>7.656429</td>\n",
              "      <td>7.686786</td>\n",
              "      <td>7.526786</td>\n",
              "      <td>7.534643</td>\n",
              "      <td>552160000</td>\n",
              "    </tr>\n",
              "    <tr>\n",
              "      <th>2010-01-07</th>\n",
              "      <td>7.562500</td>\n",
              "      <td>7.571429</td>\n",
              "      <td>7.466071</td>\n",
              "      <td>7.520714</td>\n",
              "      <td>477131200</td>\n",
              "    </tr>\n",
              "    <tr>\n",
              "      <th>2010-01-08</th>\n",
              "      <td>7.510714</td>\n",
              "      <td>7.571429</td>\n",
              "      <td>7.466429</td>\n",
              "      <td>7.570714</td>\n",
              "      <td>447610800</td>\n",
              "    </tr>\n",
              "  </tbody>\n",
              "</table>\n",
              "</div>\n",
              "      <button class=\"colab-df-convert\" onclick=\"convertToInteractive('df-f712e811-0394-46d0-8747-0135be94ce7c')\"\n",
              "              title=\"Convert this dataframe to an interactive table.\"\n",
              "              style=\"display:none;\">\n",
              "        \n",
              "  <svg xmlns=\"http://www.w3.org/2000/svg\" height=\"24px\"viewBox=\"0 0 24 24\"\n",
              "       width=\"24px\">\n",
              "    <path d=\"M0 0h24v24H0V0z\" fill=\"none\"/>\n",
              "    <path d=\"M18.56 5.44l.94 2.06.94-2.06 2.06-.94-2.06-.94-.94-2.06-.94 2.06-2.06.94zm-11 1L8.5 8.5l.94-2.06 2.06-.94-2.06-.94L8.5 2.5l-.94 2.06-2.06.94zm10 10l.94 2.06.94-2.06 2.06-.94-2.06-.94-.94-2.06-.94 2.06-2.06.94z\"/><path d=\"M17.41 7.96l-1.37-1.37c-.4-.4-.92-.59-1.43-.59-.52 0-1.04.2-1.43.59L10.3 9.45l-7.72 7.72c-.78.78-.78 2.05 0 2.83L4 21.41c.39.39.9.59 1.41.59.51 0 1.02-.2 1.41-.59l7.78-7.78 2.81-2.81c.8-.78.8-2.07 0-2.86zM5.41 20L4 18.59l7.72-7.72 1.47 1.35L5.41 20z\"/>\n",
              "  </svg>\n",
              "      </button>\n",
              "      \n",
              "  <style>\n",
              "    .colab-df-container {\n",
              "      display:flex;\n",
              "      flex-wrap:wrap;\n",
              "      gap: 12px;\n",
              "    }\n",
              "\n",
              "    .colab-df-convert {\n",
              "      background-color: #E8F0FE;\n",
              "      border: none;\n",
              "      border-radius: 50%;\n",
              "      cursor: pointer;\n",
              "      display: none;\n",
              "      fill: #1967D2;\n",
              "      height: 32px;\n",
              "      padding: 0 0 0 0;\n",
              "      width: 32px;\n",
              "    }\n",
              "\n",
              "    .colab-df-convert:hover {\n",
              "      background-color: #E2EBFA;\n",
              "      box-shadow: 0px 1px 2px rgba(60, 64, 67, 0.3), 0px 1px 3px 1px rgba(60, 64, 67, 0.15);\n",
              "      fill: #174EA6;\n",
              "    }\n",
              "\n",
              "    [theme=dark] .colab-df-convert {\n",
              "      background-color: #3B4455;\n",
              "      fill: #D2E3FC;\n",
              "    }\n",
              "\n",
              "    [theme=dark] .colab-df-convert:hover {\n",
              "      background-color: #434B5C;\n",
              "      box-shadow: 0px 1px 3px 1px rgba(0, 0, 0, 0.15);\n",
              "      filter: drop-shadow(0px 1px 2px rgba(0, 0, 0, 0.3));\n",
              "      fill: #FFFFFF;\n",
              "    }\n",
              "  </style>\n",
              "\n",
              "      <script>\n",
              "        const buttonEl =\n",
              "          document.querySelector('#df-f712e811-0394-46d0-8747-0135be94ce7c button.colab-df-convert');\n",
              "        buttonEl.style.display =\n",
              "          google.colab.kernel.accessAllowed ? 'block' : 'none';\n",
              "\n",
              "        async function convertToInteractive(key) {\n",
              "          const element = document.querySelector('#df-f712e811-0394-46d0-8747-0135be94ce7c');\n",
              "          const dataTable =\n",
              "            await google.colab.kernel.invokeFunction('convertToInteractive',\n",
              "                                                     [key], {});\n",
              "          if (!dataTable) return;\n",
              "\n",
              "          const docLinkHtml = 'Like what you see? Visit the ' +\n",
              "            '<a target=\"_blank\" href=https://colab.research.google.com/notebooks/data_table.ipynb>data table notebook</a>'\n",
              "            + ' to learn more about interactive tables.';\n",
              "          element.innerHTML = '';\n",
              "          dataTable['output_type'] = 'display_data';\n",
              "          await google.colab.output.renderOutput(dataTable, element);\n",
              "          const docLink = document.createElement('div');\n",
              "          docLink.innerHTML = docLinkHtml;\n",
              "          element.appendChild(docLink);\n",
              "        }\n",
              "      </script>\n",
              "    </div>\n",
              "  </div>\n",
              "  "
            ],
            "text/plain": [
              "                Open      High       Low     Close     Volume\n",
              "Date                                                         \n",
              "2010-01-04  7.622500  7.660714  7.585000  7.643214  493729600\n",
              "2010-01-05  7.664286  7.699643  7.616071  7.656429  601904800\n",
              "2010-01-06  7.656429  7.686786  7.526786  7.534643  552160000\n",
              "2010-01-07  7.562500  7.571429  7.466071  7.520714  477131200\n",
              "2010-01-08  7.510714  7.571429  7.466429  7.570714  447610800"
            ]
          },
          "execution_count": 35,
          "metadata": {},
          "output_type": "execute_result"
        }
      ],
      "source": [
        "df.head()"
      ]
    },
    {
      "cell_type": "code",
      "execution_count": 36,
      "metadata": {
        "id": "TrqXdyMDCkEG"
      },
      "outputs": [],
      "source": [
        "train_percentage = 0.8\n",
        "train_end = int(len(df)*train_percentage)\n",
        "\n",
        "train_split = df['Close'][:train_end]\n",
        "test_split = df['Close'][train_end:]\n",
        "\n",
        "training_data = pd.DataFrame(train_split)\n",
        "test_data = pd.DataFrame(test_split)"
      ]
    },
    {
      "cell_type": "code",
      "execution_count": 37,
      "metadata": {
        "colab": {
          "base_uri": "https://localhost:8080/"
        },
        "id": "NCPbCtFqCkEG",
        "outputId": "8461d36a-a8f6-4d26-de4e-81cc711d9485"
      },
      "outputs": [
        {
          "name": "stdout",
          "output_type": "stream",
          "text": [
            "(2501, 1)\n",
            "(626, 1)\n"
          ]
        }
      ],
      "source": [
        "print(training_data.shape)\n",
        "print(test_data.shape)"
      ]
    },
    {
      "cell_type": "code",
      "execution_count": 124,
      "metadata": {
        "id": "HyE33kjlCkEH"
      },
      "outputs": [],
      "source": [
        "scaler = MinMaxScaler(feature_range=(0,1))\n",
        "\n",
        "training_data_arr = scaler.fit_transform(training_data)\n",
        "test_data_arr = scaler.fit_transform(test_data)"
      ]
    },
    {
      "cell_type": "code",
      "execution_count": 125,
      "metadata": {
        "id": "-QvMlAOWCkEH"
      },
      "outputs": [],
      "source": [
        "window = 80\n",
        "\n",
        "x_train = []\n",
        "y_train = []\n",
        "\n",
        "x_test = []\n",
        "y_test = []\n",
        "\n",
        "for i in range(window, training_data_arr.shape[0]):\n",
        "    x_train.append(training_data_arr[i-window:i])\n",
        "    y_train.append(training_data_arr[i,0])\n",
        "\n",
        "for i in range(window, test_data_arr.shape[0]):\n",
        "    x_test.append(test_data_arr[i-window:i])\n",
        "    y_test.append(test_data_arr[i,0])\n",
        "\n",
        "x_train, y_train, x_test, y_test = np.array(x_train), np.array(y_train), np.array(x_test), np.array(y_test)"
      ]
    },
    {
      "cell_type": "code",
      "execution_count": 40,
      "metadata": {
        "colab": {
          "base_uri": "https://localhost:8080/"
        },
        "id": "kYwR7YymCkEI",
        "outputId": "6b3df1c6-0934-4cb4-99ef-1c32d4dd4d26"
      },
      "outputs": [
        {
          "data": {
            "text/plain": [
              "(2421, 80, 1)"
            ]
          },
          "execution_count": 40,
          "metadata": {},
          "output_type": "execute_result"
        }
      ],
      "source": [
        "x_train.shape"
      ]
    },
    {
      "cell_type": "code",
      "execution_count": 61,
      "metadata": {
        "colab": {
          "base_uri": "https://localhost:8080/"
        },
        "id": "PecwSJZ7rK_z",
        "outputId": "c2c6f8dc-4ea3-43a9-dc84-5523ea42c7e3"
      },
      "outputs": [
        {
          "data": {
            "text/plain": [
              "(546,)"
            ]
          },
          "execution_count": 61,
          "metadata": {},
          "output_type": "execute_result"
        }
      ],
      "source": [
        "y_test.shape"
      ]
    },
    {
      "cell_type": "code",
      "execution_count": 97,
      "metadata": {
        "colab": {
          "base_uri": "https://localhost:8080/"
        },
        "id": "--IJsSm0CkEI",
        "outputId": "dea91e07-1385-4839-a50b-5e29e69fab95"
      },
      "outputs": [
        {
          "name": "stdout",
          "output_type": "stream",
          "text": [
            "WARNING:tensorflow:Layer lstm_8 will not use cuDNN kernels since it doesn't meet the criteria. It will use a generic GPU kernel as fallback when running on GPU.\n",
            "WARNING:tensorflow:Layer lstm_9 will not use cuDNN kernels since it doesn't meet the criteria. It will use a generic GPU kernel as fallback when running on GPU.\n"
          ]
        }
      ],
      "source": [
        "model = Sequential()\n",
        "\n",
        "model.add(LSTM(units=256, activation='relu', return_sequences=True, input_shape=(x_train.shape[1], 1) ))\n",
        "model.add(Dropout(0.3))\n",
        "\n",
        "model.add(LSTM(units=256, activation='relu', return_sequences=False))\n",
        "model.add(Dropout(0.3))\n",
        "\n",
        "\n",
        "model.add(Dense(32, activation='relu'))\n",
        "model.add(Dense(1, activation='relu'))\n"
      ]
    },
    {
      "cell_type": "code",
      "execution_count": 98,
      "metadata": {
        "colab": {
          "base_uri": "https://localhost:8080/"
        },
        "id": "-9PXPVCrCkEI",
        "outputId": "a7948432-acfb-4bf9-92bb-e668f462b50c"
      },
      "outputs": [
        {
          "name": "stdout",
          "output_type": "stream",
          "text": [
            "Model: \"sequential_2\"\n",
            "_________________________________________________________________\n",
            " Layer (type)                Output Shape              Param #   \n",
            "=================================================================\n",
            " lstm_8 (LSTM)               (None, 80, 256)           264192    \n",
            "                                                                 \n",
            " dropout_8 (Dropout)         (None, 80, 256)           0         \n",
            "                                                                 \n",
            " lstm_9 (LSTM)               (None, 256)               525312    \n",
            "                                                                 \n",
            " dropout_9 (Dropout)         (None, 256)               0         \n",
            "                                                                 \n",
            " dense_4 (Dense)             (None, 32)                8224      \n",
            "                                                                 \n",
            " dense_5 (Dense)             (None, 1)                 33        \n",
            "                                                                 \n",
            "=================================================================\n",
            "Total params: 797,761\n",
            "Trainable params: 797,761\n",
            "Non-trainable params: 0\n",
            "_________________________________________________________________\n"
          ]
        }
      ],
      "source": [
        "model.summary()"
      ]
    },
    {
      "cell_type": "code",
      "execution_count": 99,
      "metadata": {
        "colab": {
          "base_uri": "https://localhost:8080/"
        },
        "id": "Ap5H1MFgCkEJ",
        "outputId": "17cc6f77-6bbe-4ff7-920b-9c2425f15821"
      },
      "outputs": [
        {
          "name": "stdout",
          "output_type": "stream",
          "text": [
            "Epoch 1/50\n",
            "76/76 [==============================] - 24s 284ms/step - loss: 0.0127 - accuracy: 0.0000e+00\n",
            "Epoch 2/50\n",
            "76/76 [==============================] - 21s 280ms/step - loss: 0.0015 - accuracy: 4.1305e-04\n",
            "Epoch 3/50\n",
            "76/76 [==============================] - 23s 309ms/step - loss: 0.0012 - accuracy: 4.1305e-04\n",
            "Epoch 4/50\n",
            "76/76 [==============================] - 21s 280ms/step - loss: 0.0012 - accuracy: 4.1305e-04\n",
            "Epoch 5/50\n",
            "76/76 [==============================] - 21s 279ms/step - loss: 0.0012 - accuracy: 4.1305e-04\n",
            "Epoch 6/50\n",
            "76/76 [==============================] - 21s 278ms/step - loss: 0.0011 - accuracy: 4.1305e-04\n",
            "Epoch 7/50\n",
            "76/76 [==============================] - 21s 281ms/step - loss: 9.9494e-04 - accuracy: 4.1305e-04\n",
            "Epoch 8/50\n",
            "76/76 [==============================] - 21s 277ms/step - loss: 9.3475e-04 - accuracy: 4.1305e-04\n",
            "Epoch 9/50\n",
            "76/76 [==============================] - 21s 278ms/step - loss: 8.9413e-04 - accuracy: 4.1305e-04\n",
            "Epoch 10/50\n",
            "76/76 [==============================] - 21s 278ms/step - loss: 8.4567e-04 - accuracy: 4.1305e-04\n",
            "Epoch 11/50\n",
            "76/76 [==============================] - 22s 286ms/step - loss: 7.7568e-04 - accuracy: 4.1305e-04\n",
            "Epoch 12/50\n",
            "76/76 [==============================] - 23s 299ms/step - loss: 0.0010 - accuracy: 4.1305e-04\n",
            "Epoch 13/50\n",
            "76/76 [==============================] - 21s 280ms/step - loss: 6.6888e-04 - accuracy: 4.1305e-04\n",
            "Epoch 14/50\n",
            "76/76 [==============================] - 21s 276ms/step - loss: 7.6770e-04 - accuracy: 4.1305e-04\n",
            "Epoch 15/50\n",
            "76/76 [==============================] - 21s 279ms/step - loss: 6.8714e-04 - accuracy: 4.1305e-04\n",
            "Epoch 16/50\n",
            "76/76 [==============================] - 22s 286ms/step - loss: 6.4448e-04 - accuracy: 4.1305e-04\n",
            "Epoch 17/50\n",
            "76/76 [==============================] - 21s 274ms/step - loss: 6.4934e-04 - accuracy: 4.1305e-04\n",
            "Epoch 18/50\n",
            "76/76 [==============================] - 21s 278ms/step - loss: 6.5284e-04 - accuracy: 4.1305e-04\n",
            "Epoch 19/50\n",
            "76/76 [==============================] - 21s 279ms/step - loss: 6.1671e-04 - accuracy: 4.1305e-04\n",
            "Epoch 20/50\n",
            "76/76 [==============================] - 21s 279ms/step - loss: 5.7135e-04 - accuracy: 4.1305e-04\n",
            "Epoch 21/50\n",
            "76/76 [==============================] - 22s 294ms/step - loss: 5.4228e-04 - accuracy: 4.1305e-04\n",
            "Epoch 22/50\n",
            "76/76 [==============================] - 21s 283ms/step - loss: 5.1082e-04 - accuracy: 4.1305e-04\n",
            "Epoch 23/50\n",
            "76/76 [==============================] - 21s 281ms/step - loss: 5.6912e-04 - accuracy: 4.1305e-04\n",
            "Epoch 24/50\n",
            "76/76 [==============================] - 22s 284ms/step - loss: 4.8631e-04 - accuracy: 4.1305e-04\n",
            "Epoch 25/50\n",
            "76/76 [==============================] - 21s 281ms/step - loss: 4.9196e-04 - accuracy: 4.1305e-04\n",
            "Epoch 26/50\n",
            "76/76 [==============================] - 21s 281ms/step - loss: 4.4663e-04 - accuracy: 4.1305e-04\n",
            "Epoch 27/50\n",
            "76/76 [==============================] - 21s 276ms/step - loss: 4.9647e-04 - accuracy: 4.1305e-04\n",
            "Epoch 28/50\n",
            "76/76 [==============================] - 21s 274ms/step - loss: 5.6012e-04 - accuracy: 4.1305e-04\n",
            "Epoch 29/50\n",
            "76/76 [==============================] - 21s 276ms/step - loss: 4.5777e-04 - accuracy: 4.1305e-04\n",
            "Epoch 30/50\n",
            "76/76 [==============================] - 21s 281ms/step - loss: 4.9506e-04 - accuracy: 4.1305e-04\n",
            "Epoch 31/50\n",
            "76/76 [==============================] - 22s 292ms/step - loss: 4.5867e-04 - accuracy: 4.1305e-04\n",
            "Epoch 32/50\n",
            "76/76 [==============================] - 21s 282ms/step - loss: 4.4309e-04 - accuracy: 4.1305e-04\n",
            "Epoch 33/50\n",
            "76/76 [==============================] - 21s 279ms/step - loss: 4.5340e-04 - accuracy: 4.1305e-04\n",
            "Epoch 34/50\n",
            "76/76 [==============================] - 21s 281ms/step - loss: 4.8824e-04 - accuracy: 4.1305e-04\n",
            "Epoch 35/50\n",
            "76/76 [==============================] - 21s 282ms/step - loss: 3.9873e-04 - accuracy: 4.1305e-04\n",
            "Epoch 36/50\n",
            "76/76 [==============================] - 21s 275ms/step - loss: 4.9907e-04 - accuracy: 4.1305e-04\n",
            "Epoch 37/50\n",
            "76/76 [==============================] - 21s 276ms/step - loss: 4.3937e-04 - accuracy: 4.1305e-04\n",
            "Epoch 38/50\n",
            "76/76 [==============================] - 21s 276ms/step - loss: 4.4265e-04 - accuracy: 4.1305e-04\n",
            "Epoch 39/50\n",
            "76/76 [==============================] - 22s 285ms/step - loss: 3.9886e-04 - accuracy: 4.1305e-04\n",
            "Epoch 40/50\n",
            "76/76 [==============================] - 21s 277ms/step - loss: 4.5283e-04 - accuracy: 4.1305e-04\n",
            "Epoch 41/50\n",
            "76/76 [==============================] - 23s 297ms/step - loss: 4.4619e-04 - accuracy: 4.1305e-04\n",
            "Epoch 42/50\n",
            "76/76 [==============================] - 21s 283ms/step - loss: 4.3397e-04 - accuracy: 4.1305e-04\n",
            "Epoch 43/50\n",
            "76/76 [==============================] - 21s 279ms/step - loss: 3.7919e-04 - accuracy: 4.1305e-04\n",
            "Epoch 44/50\n",
            "76/76 [==============================] - 21s 278ms/step - loss: 3.7437e-04 - accuracy: 4.1305e-04\n",
            "Epoch 45/50\n",
            "76/76 [==============================] - 21s 279ms/step - loss: 3.6353e-04 - accuracy: 4.1305e-04\n",
            "Epoch 46/50\n",
            "76/76 [==============================] - 21s 277ms/step - loss: 5.0216e-04 - accuracy: 4.1305e-04\n",
            "Epoch 47/50\n",
            "76/76 [==============================] - 21s 275ms/step - loss: 3.8899e-04 - accuracy: 4.1305e-04\n",
            "Epoch 48/50\n",
            "76/76 [==============================] - 21s 273ms/step - loss: 3.5627e-04 - accuracy: 4.1305e-04\n",
            "Epoch 49/50\n",
            "76/76 [==============================] - 21s 273ms/step - loss: 3.9415e-04 - accuracy: 4.1305e-04\n",
            "Epoch 50/50\n",
            "76/76 [==============================] - 22s 288ms/step - loss: 4.1517e-04 - accuracy: 4.1305e-04\n"
          ]
        },
        {
          "data": {
            "text/plain": [
              "<keras.callbacks.History at 0x7f8092a8a890>"
            ]
          },
          "execution_count": 99,
          "metadata": {},
          "output_type": "execute_result"
        }
      ],
      "source": [
        "model.compile(optimizer='adam', loss='mean_squared_error', metrics=['accuracy'])\n",
        "model.fit(x_train, y_train, epochs=50)"
      ]
    },
    {
      "cell_type": "code",
      "execution_count": 137,
      "metadata": {
        "colab": {
          "base_uri": "https://localhost:8080/"
        },
        "id": "agj_b7yUvHiV",
        "outputId": "8ce16ea8-0ee0-4fda-f6fd-1b4cfdba204c"
      },
      "outputs": [
        {
          "name": "stdout",
          "output_type": "stream",
          "text": [
            "18/18 [==============================] - 1s 27ms/step - loss: 0.0010 - accuracy: 0.0018\n"
          ]
        },
        {
          "data": {
            "text/plain": [
              "[0.0010383155895397067, 0.0018315018387511373]"
            ]
          },
          "execution_count": 137,
          "metadata": {},
          "output_type": "execute_result"
        }
      ],
      "source": [
        "model.evaluate(x_test, y_test)"
      ]
    },
    {
      "cell_type": "code",
      "execution_count": 138,
      "metadata": {
        "id": "-KL18SKzG9WB"
      },
      "outputs": [],
      "source": [
        "model.save('stock_prediction_model.h5')"
      ]
    },
    {
      "cell_type": "code",
      "execution_count": 139,
      "metadata": {
        "colab": {
          "base_uri": "https://localhost:8080/"
        },
        "id": "jwszsngagI8Y",
        "outputId": "abf26b89-35cb-40e8-97b3-f04e0828a510"
      },
      "outputs": [
        {
          "name": "stdout",
          "output_type": "stream",
          "text": [
            "WARNING:tensorflow:Layer lstm_8 will not use cuDNN kernels since it doesn't meet the criteria. It will use a generic GPU kernel as fallback when running on GPU.\n",
            "WARNING:tensorflow:Layer lstm_9 will not use cuDNN kernels since it doesn't meet the criteria. It will use a generic GPU kernel as fallback when running on GPU.\n"
          ]
        }
      ],
      "source": [
        "saved_model = load_model('stock_prediction_model.h5')"
      ]
    },
    {
      "cell_type": "code",
      "execution_count": 127,
      "metadata": {
        "id": "EZtvl6yof2nu"
      },
      "outputs": [],
      "source": [
        "y_predicted = saved_model.predict(x_test)"
      ]
    },
    {
      "cell_type": "code",
      "execution_count": 132,
      "metadata": {
        "id": "ASYxCokhgO2f"
      },
      "outputs": [],
      "source": [
        "unscaled_y_predicted = scaler.inverse_transform(y_predicted)\n",
        "unscaled_y_actual = scaler.inverse_transform(np.reshape(y_test, (y_test.shape[0], 1)))"
      ]
    },
    {
      "cell_type": "code",
      "execution_count": 133,
      "metadata": {
        "colab": {
          "base_uri": "https://localhost:8080/"
        },
        "id": "HI8wg6OH5tel",
        "outputId": "914f99a6-aabb-4fcf-8cb9-69d2099f1197"
      },
      "outputs": [
        {
          "name": "stdout",
          "output_type": "stream",
          "text": [
            "[66.194275]\n",
            "[65.61750031]\n"
          ]
        }
      ],
      "source": [
        "print(unscaled_y_predicted[0])\n",
        "print(unscaled_y_actual[0])"
      ]
    },
    {
      "cell_type": "code",
      "execution_count": 134,
      "metadata": {
        "colab": {
          "base_uri": "https://localhost:8080/",
          "height": 388
        },
        "id": "AGp45Dw1gbcU",
        "outputId": "9eb23800-2945-44e9-a217-dcac7028c19b"
      },
      "outputs": [
        {
          "data": {
            "image/png": "[encoded data removed]",
            "text/plain": [
              "<Figure size 864x432 with 1 Axes>"
            ]
          },
          "metadata": {
            "needs_background": "light"
          },
          "output_type": "display_data"
        }
      ],
      "source": [
        "plt.figure(figsize=(12,6))\n",
        "plt.plot(unscaled_y_actual, 'b', label=\"Original Price\")\n",
        "plt.plot(unscaled_y_predicted, 'r', label=\"Predicted Price\")\n",
        "plt.xlabel('Time')\n",
        "plt.ylabel('Price')\n",
        "plt.legend()\n",
        "plt.show()"
      ]
    },
    {
      "cell_type": "code",
      "execution_count": null,
      "metadata": {
        "id": "wNO6pkGYgkJ6"
      },
      "outputs": [],
      "source": []
    }
  ],
  "metadata": {
    "accelerator": "GPU",
    "colab": {
      "collapsed_sections": [],
      "name": "stock_prediction.ipynb",
      "provenance": []
    },
    "interpreter": {
      "hash": "0690c9409a5f399e1ed7cbbe34b5ccebf963c27bdf62ea48574343593a86e3c1"
    },
    "kernelspec": {
      "display_name": "Python 3.8.12 ('tensor')",
      "language": "python",
      "name": "python3"
    },
    "language_info": {
      "codemirror_mode": {
        "name": "ipython",
        "version": 3
      },
      "file_extension": ".py",
      "mimetype": "text/x-python",
      "name": "python",
      "nbconvert_exporter": "python",
      "pygments_lexer": "ipython3",
      "version": "3.8.12"
    },
    "orig_nbformat": 4
  },
  "nbformat": 4,
  "nbformat_minor": 0
}
